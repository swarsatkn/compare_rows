{
 "cells": [
  {
   "cell_type": "code",
   "execution_count": 290,
   "id": "52988b88",
   "metadata": {},
   "outputs": [],
   "source": [
    "import pandas as pd\n",
    "import os"
   ]
  },
  {
   "cell_type": "code",
   "execution_count": 291,
   "id": "cb31bbbb",
   "metadata": {},
   "outputs": [],
   "source": [
    "def generate(df1, df2):\n",
    "\n",
    "    lendf1 = len(df1.index)\n",
    "    lendf2 = len(df2.index)\n",
    "\n",
    "    true_false = []\n",
    "\n",
    "    if lendf1 == lendf2:\n",
    "        for row in range(lendf1):\n",
    "            df1_row = df1.iloc[[row]]\n",
    "            df2_row = df2.iloc[[row]]\n",
    "\n",
    "            if df1_row.equals(df2_row):\n",
    "                true_false.append(True)\n",
    "            else:\n",
    "                true_false.append(False)\n",
    "    else:\n",
    "        raise Exception(\"The number of rows in the two files are not equal.\") \n",
    "\n",
    "    merged = pd.concat([df1, df2], axis=1)\n",
    "    \n",
    "    res_file = str(input('Enter name of resultant file:'))\n",
    "    \n",
    "    merged['Result'] = true_false\n",
    "    \n",
    "    merged.to_csv(f'{res_file}.csv', index=False)\n",
    "    \n",
    "    print(f'\\nThe resultant file is present at the following location: {os.path.abspath(os.getcwd())}')"
   ]
  },
  {
   "cell_type": "code",
   "execution_count": 292,
   "id": "cff96bc4",
   "metadata": {},
   "outputs": [],
   "source": [
    "def user_input():\n",
    "    \n",
    "    df1_path = str(input('Enter path of DF1 (CSV format only)'))\n",
    "    df2_path = str(input('Enter path of DF2 (CSV format only)'))\n",
    "    \n",
    "    df1 = pd.read_csv(df1_path)\n",
    "    df2 = pd.read_csv(df2_path)\n",
    "    \n",
    "    generate(df1, df2)"
   ]
  },
  {
   "cell_type": "code",
   "execution_count": 293,
   "id": "3b76523f",
   "metadata": {},
   "outputs": [],
   "source": [
    "def execute():\n",
    "    user_input()"
   ]
  },
  {
   "cell_type": "code",
   "execution_count": 295,
   "id": "a1806c49",
   "metadata": {},
   "outputs": [
    {
     "name": "stdout",
     "output_type": "stream",
     "text": [
      "Enter path of DF1 (CSV format)/home/user/Downloads/Sample_sheet - File1.csv\n",
      "Enter path of DF2 (CSV format)/home/user/Downloads/Sample_sheet - File3.csv\n"
     ]
    },
    {
     "ename": "Exception",
     "evalue": "The number of rows in the two files are not equal.",
     "output_type": "error",
     "traceback": [
      "\u001b[0;31m---------------------------------------------------------------------------\u001b[0m",
      "\u001b[0;31mException\u001b[0m                                 Traceback (most recent call last)",
      "Cell \u001b[0;32mIn [295], line 1\u001b[0m\n\u001b[0;32m----> 1\u001b[0m \u001b[43mexecute\u001b[49m\u001b[43m(\u001b[49m\u001b[43m)\u001b[49m\n",
      "Cell \u001b[0;32mIn [293], line 2\u001b[0m, in \u001b[0;36mexecute\u001b[0;34m()\u001b[0m\n\u001b[1;32m      1\u001b[0m \u001b[38;5;28;01mdef\u001b[39;00m \u001b[38;5;21mexecute\u001b[39m():\n\u001b[0;32m----> 2\u001b[0m     \u001b[43muser_input\u001b[49m\u001b[43m(\u001b[49m\u001b[43m)\u001b[49m\n",
      "Cell \u001b[0;32mIn [292], line 9\u001b[0m, in \u001b[0;36muser_input\u001b[0;34m()\u001b[0m\n\u001b[1;32m      6\u001b[0m df1 \u001b[38;5;241m=\u001b[39m pd\u001b[38;5;241m.\u001b[39mread_csv(df1_path)\n\u001b[1;32m      7\u001b[0m df2 \u001b[38;5;241m=\u001b[39m pd\u001b[38;5;241m.\u001b[39mread_csv(df2_path)\n\u001b[0;32m----> 9\u001b[0m \u001b[43mgenerate\u001b[49m\u001b[43m(\u001b[49m\u001b[43mdf1\u001b[49m\u001b[43m,\u001b[49m\u001b[43m \u001b[49m\u001b[43mdf2\u001b[49m\u001b[43m)\u001b[49m\n",
      "Cell \u001b[0;32mIn [291], line 19\u001b[0m, in \u001b[0;36mgenerate\u001b[0;34m(df1, df2)\u001b[0m\n\u001b[1;32m     16\u001b[0m             true_false\u001b[38;5;241m.\u001b[39mappend(\u001b[38;5;28;01mFalse\u001b[39;00m)\n\u001b[1;32m     18\u001b[0m \u001b[38;5;28;01melse\u001b[39;00m:\n\u001b[0;32m---> 19\u001b[0m     \u001b[38;5;28;01mraise\u001b[39;00m \u001b[38;5;167;01mException\u001b[39;00m(\u001b[38;5;124m\"\u001b[39m\u001b[38;5;124mThe number of rows in the two files are not equal.\u001b[39m\u001b[38;5;124m\"\u001b[39m) \n\u001b[1;32m     21\u001b[0m merged \u001b[38;5;241m=\u001b[39m pd\u001b[38;5;241m.\u001b[39mconcat([df1, df2], axis\u001b[38;5;241m=\u001b[39m\u001b[38;5;241m1\u001b[39m)\n\u001b[1;32m     23\u001b[0m res_file \u001b[38;5;241m=\u001b[39m \u001b[38;5;28mstr\u001b[39m(\u001b[38;5;28minput\u001b[39m(\u001b[38;5;124m'\u001b[39m\u001b[38;5;124mEnter name of resultant file:\u001b[39m\u001b[38;5;124m'\u001b[39m))\n",
      "\u001b[0;31mException\u001b[0m: The number of rows in the two files are not equal."
     ]
    }
   ],
   "source": [
    "execute()"
   ]
  },
  {
   "cell_type": "code",
   "execution_count": null,
   "id": "4c93aac2",
   "metadata": {},
   "outputs": [],
   "source": []
  }
 ],
 "metadata": {
  "kernelspec": {
   "display_name": "Python 3",
   "language": "python",
   "name": "python3"
  },
  "language_info": {
   "codemirror_mode": {
    "name": "ipython",
    "version": 3
   },
   "file_extension": ".py",
   "mimetype": "text/x-python",
   "name": "python",
   "nbconvert_exporter": "python",
   "pygments_lexer": "ipython3",
   "version": "3.8.5"
  }
 },
 "nbformat": 4,
 "nbformat_minor": 5
}
